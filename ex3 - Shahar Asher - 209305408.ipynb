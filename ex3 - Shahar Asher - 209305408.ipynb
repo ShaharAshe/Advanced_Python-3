{
 "cells": [
  {
   "cell_type": "markdown",
   "metadata": {},
   "source": [
    "# <span style=\"color:red\">**exercise 3**</span>\n",
    "![Python logo](./python_logo.gif)\n",
    "---"
   ]
  },
  {
   "cell_type": "markdown",
   "metadata": {},
   "source": [
    "### submited by:\n",
    "- Name: Shahar Asher\n",
    "- Id: 209305408\n",
    "- Email adress: shaharas@edu.hac.ac.il\n",
    "- Date: 12/04/2024\n",
    "\n",
    "### Operation system: Windows 11\n",
    "### Python version: 3.11.5 (Using anaconda)\n",
    "### IDE: Visual Studio Code\n",
    "### External libraries: numpy, matplotlib\n",
    "---"
   ]
  },
  {
   "cell_type": "code",
   "execution_count": 142,
   "metadata": {},
   "outputs": [],
   "source": [
    "# imports\n",
    "import pandas as pd\n",
    "from dataclasses import dataclass"
   ]
  },
  {
   "cell_type": "markdown",
   "metadata": {},
   "source": [
    "## Q.1: \n",
    "- "
   ]
  },
  {
   "cell_type": "code",
   "execution_count": 143,
   "metadata": {},
   "outputs": [],
   "source": [
    "import re\n",
    "\n",
    "def make_valid_identifier(value:str)->str:\n",
    "    # Replace invalid characters with underscores\n",
    "    identifier:str = re.sub(r'\\W|^(?=\\d)', '_', value)\n",
    "\n",
    "    # Check if the identifier starts with a digit, if so, add an underscore\n",
    "    identifier = 'nV_' + identifier\n",
    "    while(identifier.endswith('_')):\n",
    "        identifier = identifier[:-1]\n",
    "    \n",
    "    for i in range(0, len(identifier)):\n",
    "        if i+1 < len(identifier):\n",
    "            if identifier[i] == '_' and identifier[i+1] == '_':\n",
    "                identifier = identifier[:i] + identifier[i+1:]\n",
    "\n",
    "    return identifier"
   ]
  },
  {
   "cell_type": "code",
   "execution_count": 144,
   "metadata": {},
   "outputs": [],
   "source": [
    "def to_valide_identifier(df:pd.DataFrame)->dict:\n",
    "    new_names:dict = {}\n",
    "    for i in df.columns:\n",
    "        print(i)\n",
    "        new_names[i] = make_valid_identifier(str(i))\n",
    "    return new_names"
   ]
  },
  {
   "cell_type": "code",
   "execution_count": 145,
   "metadata": {},
   "outputs": [],
   "source": [
    "def make_DF(data:dict)->pd.DataFrame:\n",
    "    df:pd.DataFrame = pd.DataFrame(data)\n",
    "    print(df)\n",
    "    return df"
   ]
  },
  {
   "cell_type": "code",
   "execution_count": 146,
   "metadata": {},
   "outputs": [
    {
     "name": "stdout",
     "output_type": "stream",
     "text": [
      "    1 name sur name  Payment (US₪)\n",
      "0   1    a        Q          12.30\n",
      "1   4    b        B           4.20\n",
      "2   6    c        !          -9.12\n",
      "3   3    d        9           0.00\n",
      "4  10    e        A           0.14\n",
      "1\n",
      "name\n",
      "sur name\n",
      "Payment (US₪)\n",
      "instance_name='aa'\n",
      "df.get(i).get(j)=1\n",
      "df.get(i).get(j)='a'\n",
      "df.get(i).get(j)='Q'\n",
      "df.get(i).get(j)=12.3\n",
      "\n",
      "instance_name='bb'\n",
      "df.get(i).get(j)=4\n",
      "df.get(i).get(j)='b'\n",
      "df.get(i).get(j)='B'\n",
      "df.get(i).get(j)=4.2\n",
      "\n",
      "instance_name='cc'\n",
      "df.get(i).get(j)=6\n",
      "df.get(i).get(j)='c'\n",
      "df.get(i).get(j)='!'\n",
      "df.get(i).get(j)=-9.12\n",
      "\n",
      "instance_name='dd'\n",
      "df.get(i).get(j)=3\n",
      "df.get(i).get(j)='d'\n",
      "df.get(i).get(j)='9'\n",
      "df.get(i).get(j)=0.0\n",
      "\n",
      "instance_name='ee'\n",
      "df.get(i).get(j)=10\n",
      "df.get(i).get(j)='e'\n",
      "df.get(i).get(j)='A'\n",
      "df.get(i).get(j)=0.14\n",
      "\n"
     ]
    }
   ],
   "source": [
    "data:dict = {1: [1,4,6,3,10],\n",
    "        'name': ['a', 'b','c','d', 'e'],\n",
    "        'sur name': ['Q','B','!','9','A'],\n",
    "        'Payment (US₪)': [12.3, 4.2, -9.12, 0.0, 0.14]\n",
    "        }\n",
    "\n",
    "df:pd.DataFrame = make_DF(data)\n",
    "valid_names:dict = to_valide_identifier(df)\n",
    "\n",
    "for j in range(0, len(df.columns)+1):\n",
    "        instance_name = chr(ord('a')+j)*2\n",
    "        print(f'{instance_name=}')\n",
    "        for i in valid_names:\n",
    "                print(f'{df.get(i).get(j)=}')\n",
    "        print('')\n",
    "#     print(f'{i=}, {valid_names[i]=}')\n",
    "#     print(f'aaa: {df.get(i)=}')\n",
    "#     print(f'bbb: {df.get(i).get(0)=}')\n",
    "\n"
   ]
  }
 ],
 "metadata": {
  "kernelspec": {
   "display_name": "base",
   "language": "python",
   "name": "python3"
  },
  "language_info": {
   "codemirror_mode": {
    "name": "ipython",
    "version": 3
   },
   "file_extension": ".py",
   "mimetype": "text/x-python",
   "name": "python",
   "nbconvert_exporter": "python",
   "pygments_lexer": "ipython3",
   "version": "3.11.5"
  }
 },
 "nbformat": 4,
 "nbformat_minor": 2
}
