{
 "cells": [
  {
   "cell_type": "markdown",
   "metadata": {},
   "source": [
    "# <span style=\"color:red\">**exercise 3**</span>\n",
    "![Python logo](./python_logo.gif)\n",
    "---"
   ]
  },
  {
   "cell_type": "markdown",
   "metadata": {},
   "source": [
    "### submited by:\n",
    "- Name: Shahar Asher\n",
    "- Id: 209305408\n",
    "- Email adress: shaharas@edu.hac.ac.il\n",
    "- Date: 12/04/2024\n",
    "\n",
    "### Operation system: Windows 11\n",
    "### Python version: 3.11.5 (Using anaconda)\n",
    "### IDE: Visual Studio Code\n",
    "### External libraries: numpy, matplotlib\n",
    "---"
   ]
  },
  {
   "cell_type": "code",
   "execution_count": 105,
   "metadata": {},
   "outputs": [],
   "source": [
    "# imports\n",
    "import pandas as pd\n",
    "from dataclasses import dataclass, make_dataclass\n",
    "import re\n",
    "import numpy as np\n",
    "import inspect\n",
    "import re"
   ]
  },
  {
   "cell_type": "markdown",
   "metadata": {},
   "source": [
    "## Q.1: \n",
    "- "
   ]
  },
  {
   "cell_type": "code",
   "execution_count": 106,
   "metadata": {},
   "outputs": [],
   "source": [
    "def make_valid_identifier(value:str)->str:\n",
    "    identifier:str = 'nV_'\n",
    "    identifier += re.sub(r'\\W|^(?=\\d)', '_', value)\n",
    "    while(identifier.endswith('_')):\n",
    "        identifier = identifier[:-1]\n",
    "    \n",
    "    for i in range(0, len(identifier)):\n",
    "        if i+1 < len(identifier):\n",
    "            if identifier[i] == '_' and identifier[i+1] == '_':\n",
    "                identifier = identifier[:i] + identifier[i+1:]\n",
    "\n",
    "    return identifier"
   ]
  },
  {
   "cell_type": "code",
   "execution_count": 107,
   "metadata": {},
   "outputs": [],
   "source": [
    "def create_instances(df:pd.DataFrame)->dict:\n",
    "    fields = [(make_valid_identifier(str(col)), type(df[col].iloc[0])) for col in df.columns]\n",
    "    DataClass:type = make_dataclass(\"DynamicClass\", fields)\n",
    "    \n",
    "    instances:dict = {}\n",
    "    for i, row in enumerate(df.itertuples(index=False)):\n",
    "        instance_name:str = chr(ord('a') + i)*2\n",
    "        instances[instance_name] = DataClass(*row)\n",
    "    \n",
    "    return instances"
   ]
  },
  {
   "cell_type": "code",
   "execution_count": 108,
   "metadata": {},
   "outputs": [
    {
     "name": "stdout",
     "output_type": "stream",
     "text": [
      "aa = DynamicClass(nV_1=1, nV_name='a', nV_sur_name='Q', nV_Payment_US=12.3)\n",
      "bb = DynamicClass(nV_1=4, nV_name='b', nV_sur_name='B', nV_Payment_US=4.2)\n",
      "cc = DynamicClass(nV_1=6, nV_name='c', nV_sur_name='!', nV_Payment_US=-9.12)\n",
      "dd = DynamicClass(nV_1=3, nV_name='d', nV_sur_name='9', nV_Payment_US=0.0)\n",
      "ee = DynamicClass(nV_1=10, nV_name='e', nV_sur_name='A', nV_Payment_US=0.14)\n"
     ]
    }
   ],
   "source": [
    "data:dict = {1: [1,4,6,3,10],\n",
    "        'name': ['a', 'b','c','d', 'e'],\n",
    "        'sur name': ['Q','B','!','9','A'],\n",
    "        'Payment (US₪)': [12.3, 4.2, -9.12, 0.0, 0.14]\n",
    "        }\n",
    "\n",
    "df:pd.DataFrame = pd.DataFrame(data)\n",
    "instances:dict = create_instances(df)\n",
    "\n",
    "# Print the instances\n",
    "for name, instance in instances.items():\n",
    "        print(f\"{name} = {instance}\")"
   ]
  },
  {
   "cell_type": "markdown",
   "metadata": {},
   "source": [
    "---\n",
    "## Q.2: \n",
    "- "
   ]
  },
  {
   "cell_type": "code",
   "execution_count": 109,
   "metadata": {},
   "outputs": [],
   "source": [
    "class LimitedInstances:\n",
    "    _instances:list = []\n",
    "    _number_of_instances:list = []\n",
    "    \n",
    "    def __init__(self, *args):\n",
    "        if len(args):\n",
    "            self.__set_max_instances(args[0])\n",
    "        if len(self._instances) < self._number_of_instances[0]:\n",
    "            self._instances.append(self)\n",
    "        else:\n",
    "            raise Exception(f\"Error: Cannot create more than {self._number_of_instances[0]} instances of: class {self.__class__.__name__}(self, *args)\")\n",
    "        \n",
    "    def __set_max_instances(self, max_instances):\n",
    "        if len(self._number_of_instances) and max_instances < len(self._instances):\n",
    "            raise Exception(f\"Error: Cannot set the maximum number of instances to less than the current number of instances: {self.__get_curent_number_of_instances()}\")\n",
    "        \n",
    "        if len(self._number_of_instances):\n",
    "            self._number_of_instances[0] = max_instances\n",
    "        else:\n",
    "            self._number_of_instances.append(max_instances)\n",
    "\n",
    "    def __get_max_instances(self):\n",
    "        return self._number_of_instances[0]\n",
    "    \n",
    "    def __get_curent_number_of_instances(self):\n",
    "        return len(self._instances)\n",
    "\n",
    "    def __str__(self) -> str:\n",
    "        return f\"{self.__class__.__name__} has {len(self._instances)} instances, and can have at most {self.__get_max_instances()} instances\""
   ]
  },
  {
   "cell_type": "code",
   "execution_count": 110,
   "metadata": {},
   "outputs": [],
   "source": [
    "try:\n",
    "    def generate_and_max_instances(max_instances:int)->LimitedInstances:\n",
    "        temp_class = LimitedInstances(max_instances)\n",
    "        return temp_class\n",
    "except Exception as e:\n",
    "    print(e)"
   ]
  },
  {
   "cell_type": "code",
   "execution_count": 111,
   "metadata": {},
   "outputs": [
    {
     "name": "stdout",
     "output_type": "stream",
     "text": [
      "LimitedInstances has 1 instances, and can have at most 3 instances\n",
      "LimitedInstances has 2 instances, and can have at most 3 instances\n",
      "LimitedInstances has 3 instances, and can have at most 3 instances\n",
      "Error: Cannot set the maximum number of instances to less than the current number of instances: 3\n"
     ]
    }
   ],
   "source": [
    "try:\n",
    "    temp_1 = generate_and_max_instances(3)\n",
    "    print(temp_1)\n",
    "    temp_2 = LimitedInstances()\n",
    "    print(temp_2)\n",
    "    temp_3 = LimitedInstances()\n",
    "    print(temp_3)\n",
    "    temp_4 = generate_and_max_instances(2)\n",
    "    print(temp_4)\n",
    "    temp_5 = LimitedInstances()\n",
    "    print(temp_5)\n",
    "\n",
    "except Exception as e:\n",
    "    print(e)"
   ]
  },
  {
   "cell_type": "markdown",
   "metadata": {},
   "source": [
    "---\n",
    "## Q.3: \n",
    "- \n"
   ]
  },
  {
   "cell_type": "code",
   "execution_count": 112,
   "metadata": {},
   "outputs": [],
   "source": [
    "def is_prime(num: int)->bool:\n",
    "    if num == 0 or num == 1:\n",
    "        return False\n",
    "    for n in range(2, int(np.sqrt(num))+1):\n",
    "        if num % n == 0:\n",
    "            return False\n",
    "    return True"
   ]
  },
  {
   "cell_type": "code",
   "execution_count": 113,
   "metadata": {},
   "outputs": [],
   "source": [
    "class Cyclic:\n",
    "    def __init__(self, num:int)->None:\n",
    "        self._num:int = num\n",
    "    \n",
    "    def get_num(self)->int:\n",
    "        return self._num\n",
    "\n",
    "    def __add__(self, other)->int:\n",
    "        if isinstance(other, int):\n",
    "            other_num:int = other\n",
    "        else:\n",
    "            other_num:int = other.get_num()\n",
    "        self._num += other_num\n",
    "        \n",
    "        return self.get_num()\n",
    "    \n",
    "    def __sub__(self, other)->int:\n",
    "        if isinstance(other, int):\n",
    "            other_num:int = other\n",
    "        else:\n",
    "            other_num:int = other.get_num()\n",
    "        self._num -= other_num\n",
    "\n",
    "        return self.get_num()\n",
    "    \n",
    "    def __mul__(self, other)->int:\n",
    "        if isinstance(other, int):\n",
    "            other_num:int = other\n",
    "        else:\n",
    "            other_num:int = other.get_num()\n",
    "        self._num *= other_num\n",
    "\n",
    "        return self.get_num()\n",
    "    \n",
    "    def __truediv__(self, other)->int:\n",
    "        if isinstance(other, int):\n",
    "            other_num:int = other\n",
    "        else:\n",
    "            other_num:int = other.get_num()\n",
    "        if other_num == 0:\n",
    "            raise ZeroDivisionError(\"Error: Cannot divide by zero\")\n",
    "        self._num //= other_num\n",
    "\n",
    "        return self.get_num()\n",
    "    "
   ]
  },
  {
   "cell_type": "code",
   "execution_count": 114,
   "metadata": {},
   "outputs": [],
   "source": [
    "def generate_cyclic(num:int)->Cyclic:\n",
    "    return Cyclic(num)"
   ]
  },
  {
   "cell_type": "code",
   "execution_count": 115,
   "metadata": {},
   "outputs": [
    {
     "name": "stdout",
     "output_type": "stream",
     "text": [
      "8\n",
      "5\n",
      "15\n",
      "5\n",
      "105\n"
     ]
    }
   ],
   "source": [
    "try:\n",
    "    gen_1 = generate_cyclic(5)\n",
    "    gen_2 = generate_cyclic(3)\n",
    "    \n",
    "    print(gen_1 + gen_2)\n",
    "    print(gen_1 - gen_2)\n",
    "    print(gen_1 * gen_2)\n",
    "    print(gen_1 / gen_2)\n",
    "    print(gen_1 + 100)\n",
    "except ZeroDivisionError as e:\n",
    "    print(e)"
   ]
  },
  {
   "cell_type": "markdown",
   "metadata": {},
   "source": [
    "---\n",
    "## Q.4: \n",
    "- \n",
    "- The code is in the file *`salat.py`*"
   ]
  },
  {
   "cell_type": "markdown",
   "metadata": {},
   "source": [
    "```python\n",
    "# import libraries\n",
    "import inspect\n",
    "import re\n",
    "```"
   ]
  },
  {
   "cell_type": "markdown",
   "metadata": {},
   "source": [
    "```python\n",
    "class GlobalLogger:\n",
    "    _instance = None\n",
    "    \n",
    "    def __new__(cls, *args, **kwargs):\n",
    "        if not cls._instance:\n",
    "            cls._instance = super(GlobalLogger, cls).__new__(cls, *args, **kwargs)\n",
    "            cls._instance.__messages_dict = {}\n",
    "        return cls._instance\n",
    "\n",
    "    def __init__(self):\n",
    "        self.__file_name = self.__my_file_name()\n",
    "        self.__log_level = \"LOG\"\n",
    "        if self.get_file_name() not in self.__messages_dict:\n",
    "            self.__messages_dict = {self.get_file_name(): []}\n",
    "        \n",
    "    def __my_file_name(self)->str:\n",
    "        module_name = inspect.currentframe().f_globals['__file__']\n",
    "        file_name = re.search(r\"(\\w+).py\", module_name)\n",
    "        return file_name.group(1)\n",
    "    \n",
    "    def get_file_name(self)->str:\n",
    "        return self.__file_name\n",
    "\n",
    "    def message(self, msg:str):\n",
    "        self.__messages_dict[self.get_file_name()].append(msg)\n",
    "\n",
    "    def __getitem__(self, key):\n",
    "        return f\"[{self.get_file_name()}] - {self.__messages_dict[key]}\"\n",
    "    \n",
    "    def __get_log_level(self):\n",
    "        return self.__log_level\n",
    "    \n",
    "    def log(self, message):\n",
    "        print(f\"[{self.__get_log_level()}] - {message}\")\n",
    "```"
   ]
  },
  {
   "cell_type": "markdown",
   "metadata": {},
   "source": [
    "```python\n",
    "if __name__ == \"__main__\":\n",
    "    logger1 = GlobalLogger()\n",
    "    logger1.log(\"This is an info message.\")\n",
    "    logger1.message(\"This in an info message.\")\n",
    "    print(logger1[\"salat\"])\n",
    "    logger2 = GlobalLogger()\n",
    "    logger2.log(\"This is an error message.\")\n",
    "    logger2.message(\"This is an error message.\")\n",
    "    logger1.log(\"This message also shows as an error.\")\n",
    "    logger1.message(\"This message also shows as an error.\")\n",
    "    print(logger2[\"salat\"])\n",
    "\n",
    "    myLogger = GlobalLogger()\n",
    "    myLogger.message(\"No onions!\")\n",
    "\n",
    "    print(myLogger[\"salat\"])\n",
    "```"
   ]
  },
  {
   "cell_type": "markdown",
   "metadata": {},
   "source": [
    "---\n",
    "- output:\n",
    "```\n",
    "[Running] python -u \"./salat.py\"\n",
    "[LOG] - This is an info message.\n",
    "[salat] - ['This in an info message.']\n",
    "[LOG] - This is an error message.\n",
    "[LOG] - This message also shows as an error.\n",
    "[salat] - ['This in an info message.', 'This is an error message.', 'This message also shows as an error.']\n",
    "[salat] - ['This in an info message.', 'This is an error message.', 'This message also shows as an error.', 'No onions!']\n",
    "\n",
    "[Done] exited with code=0 in 0.108 seconds\n",
    "```"
   ]
  },
  {
   "cell_type": "markdown",
   "metadata": {},
   "source": [
    "---\n"
   ]
  }
 ],
 "metadata": {
  "kernelspec": {
   "display_name": "base",
   "language": "python",
   "name": "python3"
  },
  "language_info": {
   "codemirror_mode": {
    "name": "ipython",
    "version": 3
   },
   "file_extension": ".py",
   "mimetype": "text/x-python",
   "name": "python",
   "nbconvert_exporter": "python",
   "pygments_lexer": "ipython3",
   "version": "3.11.5"
  }
 },
 "nbformat": 4,
 "nbformat_minor": 2
}
