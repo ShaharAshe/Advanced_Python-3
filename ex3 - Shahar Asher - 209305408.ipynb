{
 "cells": [
  {
   "cell_type": "markdown",
   "metadata": {},
   "source": [
    "# <span style=\"color:red\">**exercise 3**</span>\n",
    "![Python logo](./python_logo.gif)\n",
    "---"
   ]
  },
  {
   "cell_type": "markdown",
   "metadata": {},
   "source": [
    "### submited by:\n",
    "- Name: Shahar Asher\n",
    "- Id: 209305408\n",
    "- Email adress: shaharas@edu.hac.ac.il\n",
    "- Date: 12/04/2024\n",
    "\n",
    "### Operation system: Windows 11\n",
    "### Python version: 3.11.5 (Using anaconda)\n",
    "### IDE: Visual Studio Code\n",
    "### External libraries: numpy, matplotlib\n",
    "---"
   ]
  },
  {
   "cell_type": "code",
   "execution_count": 246,
   "metadata": {},
   "outputs": [],
   "source": [
    "# imports\n",
    "import pandas as pd\n",
    "from dataclasses import dataclass, make_dataclass"
   ]
  },
  {
   "cell_type": "markdown",
   "metadata": {},
   "source": [
    "## Q.1: \n",
    "- "
   ]
  },
  {
   "cell_type": "code",
   "execution_count": 247,
   "metadata": {},
   "outputs": [],
   "source": [
    "import re\n",
    "\n",
    "def make_valid_identifier(value:str)->str:\n",
    "    # Replace invalid characters with underscores\n",
    "    identifier:str = re.sub(r'\\W|^(?=\\d)', '_', value)\n",
    "\n",
    "    # Check if the identifier starts with a digit, if so, add an underscore\n",
    "    identifier = 'nV_' + identifier\n",
    "    while(identifier.endswith('_')):\n",
    "        identifier = identifier[:-1]\n",
    "    \n",
    "    for i in range(0, len(identifier)):\n",
    "        if i+1 < len(identifier):\n",
    "            if identifier[i] == '_' and identifier[i+1] == '_':\n",
    "                identifier = identifier[:i] + identifier[i+1:]\n",
    "\n",
    "    return identifier"
   ]
  },
  {
   "cell_type": "code",
   "execution_count": 248,
   "metadata": {},
   "outputs": [],
   "source": [
    "def make_DF(data:dict)->pd.DataFrame:\n",
    "    df:pd.DataFrame = pd.DataFrame(data)\n",
    "    return df"
   ]
  },
  {
   "cell_type": "code",
   "execution_count": 249,
   "metadata": {},
   "outputs": [],
   "source": [
    "def create_instances(df:pd.DataFrame)->dict:\n",
    "\n",
    "    # Create a dataclass with fields corresponding to dataframe columns\n",
    "    fields = [(make_valid_identifier(str(col)), type(df[col].iloc[0])) for col in df.columns]\n",
    "    # Generate a dictionary of dataclass instances with unique names\n",
    "    DataClass = make_dataclass(\"DynamicClass\", fields)\n",
    "    instances = {}\n",
    "    for i, row in enumerate(df.itertuples(index=False)):\n",
    "        instance_name = chr(ord('a') + i)*2\n",
    "        instances[instance_name] = DataClass(*row)\n",
    "    \n",
    "    return instances"
   ]
  },
  {
   "cell_type": "code",
   "execution_count": 250,
   "metadata": {},
   "outputs": [
    {
     "name": "stdout",
     "output_type": "stream",
     "text": [
      "aa = DynamicClass(nV_1=1, nV_name='a', nV_sur_name='Q', nV_Payment_US=12.3)\n",
      "bb = DynamicClass(nV_1=4, nV_name='b', nV_sur_name='B', nV_Payment_US=4.2)\n",
      "cc = DynamicClass(nV_1=6, nV_name='c', nV_sur_name='!', nV_Payment_US=-9.12)\n",
      "dd = DynamicClass(nV_1=3, nV_name='d', nV_sur_name='9', nV_Payment_US=0.0)\n",
      "ee = DynamicClass(nV_1=10, nV_name='e', nV_sur_name='A', nV_Payment_US=0.14)\n"
     ]
    }
   ],
   "source": [
    "data:dict = {1: [1,4,6,3,10],\n",
    "        'name': ['a', 'b','c','d', 'e'],\n",
    "        'sur name': ['Q','B','!','9','A'],\n",
    "        'Payment (US₪)': [12.3, 4.2, -9.12, 0.0, 0.14]\n",
    "        }\n",
    "\n",
    "df:pd.DataFrame = make_DF(data)\n",
    "instances:dict = create_instances(df)\n",
    "\n",
    "# Print the instances\n",
    "for name, instance in instances.items():\n",
    "        print(f\"{name} = {instance}\")"
   ]
  }
 ],
 "metadata": {
  "kernelspec": {
   "display_name": "base",
   "language": "python",
   "name": "python3"
  },
  "language_info": {
   "codemirror_mode": {
    "name": "ipython",
    "version": 3
   },
   "file_extension": ".py",
   "mimetype": "text/x-python",
   "name": "python",
   "nbconvert_exporter": "python",
   "pygments_lexer": "ipython3",
   "version": "3.11.5"
  }
 },
 "nbformat": 4,
 "nbformat_minor": 2
}
